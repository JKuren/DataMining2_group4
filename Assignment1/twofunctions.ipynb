{
 "cells": [
  {
   "cell_type": "code",
   "execution_count": 167,
   "id": "81f1c0a1",
   "metadata": {},
   "outputs": [],
   "source": [
    "\n",
    "\n",
    "        def inlinkgraph(self, out_links):\n",
    "    \n",
    "            \"\"\"Creates dictionary of inlink graph that records in_links with pagename, pageinde and mainpageindex,\n",
    "                If a webpage is inlinked from more than one main pages then indeces are updated.\n",
    "                For example: Consider a entery in link_dict is  'usnews.com': [[10], [1], [44]], \n",
    "                Then, webpage usnews.com has index 10 and inlinked by main pages 1 and 44.\n",
    "\n",
    "            Parameters\n",
    "            ----------\n",
    "             out_links: list\n",
    "                A processed list of all pages in a data file\n",
    "        \n",
    "          \n",
    "            \"\"\"\n",
    "            for ind, pname in enumerate(out_links):\n",
    "                #Check if a page already exists in link_dict\n",
    "                if self.inlink_dict.get(pname)==None: # If a page is not present is dict\n",
    "                    self.inlink_dict[pname]= [ self.pages[pname], self.pages[out_links[0]] ] # Add the page and indeces\n",
    "                else: #A page already exists in the inlink_dict, update the main page indeces\n",
    "                    self.inlink_dict[pname]= [  list(itertools.chain(*self.inlink_dict[pname])), self.pages[out_links[0]]]\n",
    "\n",
    "\n",
    "        \n"
   ]
  },
  {
   "cell_type": "code",
   "execution_count": 168,
   "id": "70513cb3",
   "metadata": {},
   "outputs": [],
   "source": [
    "    \n",
    "def adjpagerank(self, dict_inlinks):\n",
    "    \n",
    "    \"\"\"Adjacacy matrix for page rank algo:  \n",
    "                        #An Adjacency matrix of in links of web pages divided by total number of out links of a page.\n",
    "                        #Each element of A that is A_i,j  represents the out link from web page 'i' (row) to web page 'j' (column).\n",
    "                        #Alternatively,  We can also say that in link from web page 'j' (column) to web page 'i' (row).\n",
    "                        #Note that  for all 'i' sum(i, M_i,j) = 1 and A must be a square matrix.\n",
    "                        \n",
    "    Parameters\n",
    "    ----------\n",
    "       \n",
    "    dict_inlinks : dictionary\n",
    "               A dictionary of in links\n",
    "    \n",
    "    \n",
    "        \n",
    "    \"\"\"\n",
    "    zero_data = np.zeros(shape=(len(dict_inlinks),len(dict_inlinks)))\n",
    "    self.adj_m_pagerank = pd.DataFrame(zero_data)\n",
    "\n",
    "    for i in dict_inlinks:\n",
    "            \n",
    "        link_map=(list(itertools.chain(*dict_inlinks[i])))\n",
    "        for ind, j in enumerate(link_map):\n",
    "            if ind!=0: # It is the page index, but we need both the page index and main page index.\n",
    "            \n",
    "                #If a page index and main page index is similar then it is self link and is removed.\n",
    "                if link_map[ind]!=link_map[0]:\n",
    "                    self.adj_m_pagerank.iat[ link_map[ind]-1, (link_map[0]-1)  ]='1'\n",
    "                        \n",
    "    ###########divide the 1 by the total out links (# Only divide if row sum is not 0)\n",
    "    self.adj_m_pagerank=self.adj_m_pagerank.apply(lambda x : x.div(x.sum()) if (x.sum()!=0) else 0 , axis=1) \n",
    "\n",
    "\n"
   ]
  },
  {
   "cell_type": "code",
   "execution_count": null,
   "id": "36454feb",
   "metadata": {},
   "outputs": [],
   "source": []
  }
 ],
 "metadata": {
  "kernelspec": {
   "display_name": "Python 3.8.5 32-bit",
   "language": "python",
   "name": "python3"
  },
  "language_info": {
   "codemirror_mode": {
    "name": "ipython",
    "version": 3
   },
   "file_extension": ".py",
   "mimetype": "text/x-python",
   "name": "python",
   "nbconvert_exporter": "python",
   "pygments_lexer": "ipython3",
   "version": "3.8.5"
  },
  "vscode": {
   "interpreter": {
    "hash": "1cf13c2935eefaf1661c08fa0a4535e671f54a605f75ab91b11f9d9e114986c2"
   }
  }
 },
 "nbformat": 4,
 "nbformat_minor": 5
}
